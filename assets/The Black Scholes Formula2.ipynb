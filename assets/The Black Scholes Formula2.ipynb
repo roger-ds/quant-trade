{
 "cells": [
  {
   "cell_type": "code",
   "execution_count": 79,
   "metadata": {},
   "outputs": [],
   "source": [
    "import numpy as np\n",
    "from scipy.stats import norm\n",
    "from py_vollib.black_scholes import black_scholes as bs\n",
    "from py_vollib.black_scholes.greeks.analytical import (\n",
    "    delta, gamma, vega, theta, rho)\n",
    "from datetime import datetime, timedelta"
   ]
  },
  {
   "cell_type": "code",
   "execution_count": 15,
   "metadata": {},
   "outputs": [],
   "source": [
    "def delta_calc(S, K, sigma, type_=\"c\", T=15/252, r=0.1365):\n",
    "    \"Calculate delta of an option\"\n",
    "    d1 = (np.log(S/K) + (r + sigma**2/2)*T)/(sigma*np.sqrt(T))\n",
    "    if type_ == \"c\":\n",
    "        delta_calc = norm.cdf(d1, 0, 1)\n",
    "    elif type_ == \"p\":\n",
    "        delta_calc = -norm.cdf(-d1, 0, 1)\n",
    "    return delta_calc "
   ]
  },
  {
   "cell_type": "code",
   "execution_count": 25,
   "metadata": {},
   "outputs": [
    {
     "data": {
      "text/plain": [
       "50.12"
      ]
     },
     "execution_count": 25,
     "metadata": {},
     "output_type": "execute_result"
    }
   ],
   "source": [
    "round(delta_calc(25.92, 26.26, 0.4184, type_=\"c\", T=15/252, r=0.1365) * 100, 2)"
   ]
  },
  {
   "cell_type": "code",
   "execution_count": 1,
   "metadata": {},
   "outputs": [],
   "source": [
    "import datetime as dt\n",
    "from workadays import workdays as wd"
   ]
  },
  {
   "attachments": {},
   "cell_type": "markdown",
   "metadata": {},
   "source": [
    "### Diferença de dias úteis entre duas datas"
   ]
  },
  {
   "cell_type": "code",
   "execution_count": 3,
   "metadata": {},
   "outputs": [
    {
     "name": "stdout",
     "output_type": "stream",
     "text": [
      "750\n"
     ]
    }
   ],
   "source": [
    "d1 = dt.date(2018, 1, 7)\n",
    "d2 = dt.date(2020, 12, 31)\n",
    "print(wd.networkdays(d1, d2))  "
   ]
  },
  {
   "cell_type": "code",
   "execution_count": 31,
   "metadata": {},
   "outputs": [],
   "source": [
    "def expiration_date(expiration):\n",
    "    d1 = dt.date.today()\n",
    "    y, m, d = list(map(int, expiration.split(\"-\")))\n",
    "    d2 = dt.date(y, m, d)\n",
    "    return wd.networkdays(d1, d2, country='BR', state='SP')"
   ]
  },
  {
   "cell_type": "code",
   "execution_count": 34,
   "metadata": {},
   "outputs": [
    {
     "data": {
      "text/plain": [
       "13"
      ]
     },
     "execution_count": 34,
     "metadata": {},
     "output_type": "execute_result"
    }
   ],
   "source": [
    "expiration_date(\"2023-03-17\")"
   ]
  },
  {
   "attachments": {},
   "cell_type": "markdown",
   "metadata": {},
   "source": [
    "Exibe a lista de feriados do Brasil e de São Paulo / AP"
   ]
  },
  {
   "cell_type": "code",
   "execution_count": 6,
   "metadata": {},
   "outputs": [
    {
     "name": "stdout",
     "output_type": "stream",
     "text": [
      "2023-01-01\n",
      "2023-02-20\n",
      "2023-02-21\n",
      "2023-03-19\n",
      "2023-04-07\n",
      "2023-04-09\n",
      "2023-04-21\n",
      "2023-05-01\n",
      "2023-06-08\n",
      "2023-07-25\n",
      "2023-09-07\n",
      "2023-10-05\n",
      "2023-10-12\n",
      "2023-11-02\n",
      "2023-11-15\n",
      "2023-11-20\n",
      "2023-12-25\n"
     ]
    }
   ],
   "source": [
    "for date in wd.get_holidays(country='BR', state='AP', years=range(2023, 2024)):\n",
    "    print(date)"
   ]
  },
  {
   "cell_type": "code",
   "execution_count": 74,
   "metadata": {},
   "outputs": [],
   "source": [
    "VENC_DI = {\n",
    "    '01': 'F', '02':'G', '03': 'H', '04': 'J', '05': 'K', '06': 'M',\n",
    "    '07': 'N', '08': 'Q', '09': 'U', '10': 'V', '11': 'X', '12': 'Z'\n",
    "    }"
   ]
  },
  {
   "cell_type": "code",
   "execution_count": 80,
   "metadata": {},
   "outputs": [],
   "source": [
    "def di1d() -> str:\n",
    "    year_short = datetime.now().strftime('%y')\n",
    "    month = (datetime.now() + timedelta(days=1)).strftime('%m')\n",
    "    return 'DI1' + VENC_DI[month] + year_short"
   ]
  },
  {
   "cell_type": "code",
   "execution_count": 81,
   "metadata": {},
   "outputs": [
    {
     "name": "stdout",
     "output_type": "stream",
     "text": [
      "DI1H23\n"
     ]
    }
   ],
   "source": [
    "print(di1d())"
   ]
  },
  {
   "cell_type": "code",
   "execution_count": null,
   "metadata": {},
   "outputs": [],
   "source": [
    "\n",
    "F23\n",
    "G23\n",
    "H23\n",
    "J23\n",
    "K23\n",
    "M23\n",
    "N23\n",
    "Q23\n",
    "U23\n",
    "V23\n",
    "X23\n",
    "Z23"
   ]
  }
 ],
 "metadata": {
  "kernelspec": {
   "display_name": ".venv",
   "language": "python",
   "name": "python3"
  },
  "language_info": {
   "codemirror_mode": {
    "name": "ipython",
    "version": 3
   },
   "file_extension": ".py",
   "mimetype": "text/x-python",
   "name": "python",
   "nbconvert_exporter": "python",
   "pygments_lexer": "ipython3",
   "version": "3.10.0"
  },
  "vscode": {
   "interpreter": {
    "hash": "fa24e63a9949693ba67102ab49889fb3df2c3747b3bbf04896a829464473b023"
   }
  }
 },
 "nbformat": 4,
 "nbformat_minor": 2
}
