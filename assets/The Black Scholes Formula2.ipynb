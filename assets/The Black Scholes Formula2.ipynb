{
 "cells": [
  {
   "cell_type": "code",
   "execution_count": 3,
   "metadata": {},
   "outputs": [],
   "source": [
    "import numpy as np\n",
    "from scipy.stats import norm\n",
    "from py_vollib.black_scholes import black_scholes as bs\n",
    "from py_vollib.black_scholes.greeks.analytical import (\n",
    "    delta, gamma, vega, theta, rho)"
   ]
  },
  {
   "cell_type": "code",
   "execution_count": 15,
   "metadata": {},
   "outputs": [],
   "source": [
    "def delta_calc(S, K, sigma, type_=\"c\", T=15/252, r=0.1365):\n",
    "    \"Calculate delta of an option\"\n",
    "    d1 = (np.log(S/K) + (r + sigma**2/2)*T)/(sigma*np.sqrt(T))\n",
    "    if type_ == \"c\":\n",
    "        delta_calc = norm.cdf(d1, 0, 1)\n",
    "    elif type_ == \"p\":\n",
    "        delta_calc = -norm.cdf(-d1, 0, 1)\n",
    "    return delta_calc "
   ]
  },
  {
   "cell_type": "code",
   "execution_count": 16,
   "metadata": {},
   "outputs": [
    {
     "data": {
      "text/plain": [
       "0.502468383724066"
      ]
     },
     "execution_count": 16,
     "metadata": {},
     "output_type": "execute_result"
    }
   ],
   "source": [
    "delta_calc(25.92, 26.26, 0.4322, type_=\"c\", T=15/252, r=0.1365)"
   ]
  },
  {
   "cell_type": "code",
   "execution_count": null,
   "metadata": {},
   "outputs": [],
   "source": []
  }
 ],
 "metadata": {
  "kernelspec": {
   "display_name": ".venv",
   "language": "python",
   "name": "python3"
  },
  "language_info": {
   "codemirror_mode": {
    "name": "ipython",
    "version": 3
   },
   "file_extension": ".py",
   "mimetype": "text/x-python",
   "name": "python",
   "nbconvert_exporter": "python",
   "pygments_lexer": "ipython3",
   "version": "3.10.0"
  },
  "vscode": {
   "interpreter": {
    "hash": "fa24e63a9949693ba67102ab49889fb3df2c3747b3bbf04896a829464473b023"
   }
  }
 },
 "nbformat": 4,
 "nbformat_minor": 2
}
