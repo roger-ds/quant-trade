{
 "cells": [
  {
   "cell_type": "code",
   "execution_count": 60,
   "metadata": {},
   "outputs": [],
   "source": [
    "from scipy.stats import norm\n",
    "from math import log, sqrt, exp\n",
    "\n",
    "def BlackScholes(CallPutFlag,S,K,r,v,T):\n",
    "    \"\"\" # The Black Scholes Formula\n",
    "    # CallPutFlag - This is set to 'c' for call option, anything else for put\n",
    "    # S - Stock price\n",
    "    # K - Strike price\n",
    "    # r - Riskfree interest rate\n",
    "    # v - Volatility\n",
    "    # T - Time to maturity\n",
    "    # d - Dividend yield\n",
    "    \"\"\"\n",
    "    T = T/252\n",
    "    d1 = (log(float(S)/K) + ((v**2)*T)/2.) / (v*sqrt(T))\n",
    "    d2 = d1-v*sqrt(T)\n",
    "    if CallPutFlag =='c':\n",
    "        return S*norm.cdf(d1)-K*norm.cdf(d2)*r\n",
    "    else:\n",
    "        return K*norm.cdf(-d2)-S*norm.cdf(-d1)*r\n",
    "\n"
   ]
  },
  {
   "cell_type": "code",
   "execution_count": 65,
   "metadata": {},
   "outputs": [
    {
     "name": "stdout",
     "output_type": "stream",
     "text": [
      "0.7197378865710089\n",
      "49.7979211249046\n"
     ]
    }
   ],
   "source": [
    "print(BlackScholes('c', 26.20, 26.15, 0.996314, 0.2537, 15))\n",
    "print(BlackScholes('p', 100, 100, 0.005, 0.06, 0.4))"
   ]
  },
  {
   "cell_type": "code",
   "execution_count": 26,
   "metadata": {},
   "outputs": [
    {
     "data": {
      "text/plain": [
       "1.1432335348292781"
      ]
     },
     "execution_count": 26,
     "metadata": {},
     "output_type": "execute_result"
    }
   ],
   "source": [
    "BlackScholes('c', 100, 100, 0.005, 0.06, 0, 0.4)"
   ]
  },
  {
   "cell_type": "code",
   "execution_count": 30,
   "metadata": {},
   "outputs": [
    {
     "data": {
      "text/plain": [
       "3.9835172452950496"
      ]
     },
     "execution_count": 30,
     "metadata": {},
     "output_type": "execute_result"
    }
   ],
   "source": [
    "BinomialTree3(\"C\", 26.14, 26.15, 0.0641, 0.31, 0.996307, american=\"false\")"
   ]
  },
  {
   "cell_type": "code",
   "execution_count": 10,
   "metadata": {},
   "outputs": [
    {
     "ename": "ImportError",
     "evalue": "No module named 'QuantLib'",
     "output_type": "error",
     "traceback": [
      "\u001b[1;31m---------------------------------------------------------------------------\u001b[0m",
      "\u001b[1;31mImportError\u001b[0m                               Traceback (most recent call last)",
      "\u001b[1;32m<ipython-input-10-8c1b3c64990b>\u001b[0m in \u001b[0;36m<module>\u001b[1;34m\u001b[0m\n\u001b[0;32m      1\u001b[0m \u001b[1;31m# valuing an American option\u001b[0m\u001b[1;33m\u001b[0m\u001b[1;33m\u001b[0m\u001b[0m\n\u001b[0;32m      2\u001b[0m \u001b[1;33m\u001b[0m\u001b[0m\n\u001b[1;32m----> 3\u001b[1;33m \u001b[1;32mfrom\u001b[0m \u001b[0mQuantLib\u001b[0m \u001b[1;32mimport\u001b[0m \u001b[1;33m*\u001b[0m\u001b[1;33m\u001b[0m\u001b[0m\n\u001b[0m\u001b[0;32m      4\u001b[0m \u001b[1;33m\u001b[0m\u001b[0m\n\u001b[0;32m      5\u001b[0m \u001b[0mvaluation_date\u001b[0m \u001b[1;33m=\u001b[0m \u001b[0mDate\u001b[0m\u001b[1;33m(\u001b[0m\u001b[1;36m22\u001b[0m\u001b[1;33m,\u001b[0m \u001b[1;36m8\u001b[0m\u001b[1;33m,\u001b[0m \u001b[1;36m2018\u001b[0m\u001b[1;33m)\u001b[0m\u001b[1;33m\u001b[0m\u001b[0m\n",
      "\u001b[1;31mImportError\u001b[0m: No module named 'QuantLib'"
     ]
    }
   ],
   "source": [
    "# valuing an American option\n",
    "\n",
    "from QuantLib import *\n",
    "\n",
    "valuation_date = Date(22, 8, 2018)\n",
    "Settings.instance().evaluationDate = valuation_date+2\n",
    "\n",
    "calendar = Canada()\n",
    "volatility = 42.66/100\n",
    "day_count = Actual365Fixed()\n",
    "\n",
    "underlying = 13.5\n",
    "risk_free_rate = 2.13/100\n",
    "dividend_rate = 1.2/100\n",
    "\n",
    "exercise_date = Date(22, 8, 2021)\n",
    "strike = 13\n",
    "option_type = Option.Put\n",
    "\n",
    "payoff = PlainVanillaPayoff(option_type, strike)\n",
    "exercise = EuropeanExercise(exercise_date)\n",
    "european_option = VanillaOption(payoff, exercise)\n",
    "\n",
    "spot_handle = QuoteHandle(SimpleQuote(underlying))\n",
    "\n",
    "flat_ts = YieldTermStructureHandle(FlatForward(valuation_date,risk_free_rate,day_count))\n",
    "dividend_yield = YieldTermStructureHandle(FlatForward(valuation_date,dividend_rate,day_count))\n",
    "flat_vol_ts = BlackVolTermStructureHandle(BlackConstantVol(valuation_date,calendar,volatility,day_count))\n",
    "bsm_process = BlackScholesMertonProcess(spot_handle,dividend_yield,flat_ts,flat_vol_ts)\n",
    "\n",
    "# European option\n",
    "european_option.setPricingEngine(AnalyticEuropeanEngine(bsm_process))\n",
    "bs_price = european_option.NPV()\n",
    "print(\"European option price is \", bs_price)\n",
    "\n",
    "# American option\n",
    "binomial_engine = BinomialVanillaEngine(bsm_process, \"crr\", 50)\n",
    "am_exercise = AmericanExercise(valuation_date, exercise_date)\n",
    "american_option = VanillaOption(payoff, am_exercise)\n",
    "american_option.setPricingEngine(binomial_engine)\n",
    "crr_price = american_option.NPV()\n",
    "print(\"American option price is \", crr_price)"
   ]
  },
  {
   "cell_type": "code",
   "execution_count": null,
   "metadata": {},
   "outputs": [],
   "source": []
  }
 ],
 "metadata": {
  "kernelspec": {
   "display_name": ".venv",
   "language": "python",
   "name": "python3"
  },
  "language_info": {
   "codemirror_mode": {
    "name": "ipython",
    "version": 3
   },
   "file_extension": ".py",
   "mimetype": "text/x-python",
   "name": "python",
   "nbconvert_exporter": "python",
   "pygments_lexer": "ipython3",
   "version": "3.10.0"
  },
  "vscode": {
   "interpreter": {
    "hash": "fa24e63a9949693ba67102ab49889fb3df2c3747b3bbf04896a829464473b023"
   }
  }
 },
 "nbformat": 4,
 "nbformat_minor": 2
}
