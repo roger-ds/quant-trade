{
 "cells": [
  {
   "cell_type": "code",
   "execution_count": 11,
   "metadata": {},
   "outputs": [],
   "source": [
    "import pandas as pd\n",
    "import requests\n",
    "from trade import pymt5, settings"
   ]
  },
  {
   "cell_type": "code",
   "execution_count": 2,
   "metadata": {},
   "outputs": [],
   "source": [
    "def list_options(symbol, expiration):\n",
    "    \"\"\"List options from https://opcoes.net.br/ API by expiration date\"\"\"\n",
    "    url = f\"https://opcoes.net.br/listaopcoes/completa?idAcao={symbol}&listarVencimentos=false&cotacoes=true&vencimentos={expiration}\"\n",
    "    r = requests.get(url).json()\n",
    "    l = [ \n",
    "        [symbol, expiration, i[0].split(\"_\")[0], i[2], i[3], i[5]] \n",
    "        for i in r[\"data\"][\"cotacoesOpcoes\"]\n",
    "        ]\n",
    "    return pd.DataFrame(\n",
    "        l, columns=[\"symbol\", \"expiration\", \"option\", \"type\", \"model\", \"strike\"]\n",
    "        )"
   ]
  },
  {
   "cell_type": "code",
   "execution_count": 3,
   "metadata": {},
   "outputs": [],
   "source": [
    "def list_all_options(symbol):\n",
    "    \"\"\"List all options from https://opcoes.net.br/ API \"\"\"\n",
    "    url = f\"https://opcoes.net.br/listaopcoes/completa?idAcao={symbol}&listarVencimentos=true&cotacoes=true\"\n",
    "    r = requests.get(url).json()\n",
    "    expirations = [i[\"value\"] for i in r[\"data\"][\"vencimentos\"]]\n",
    "    df = pd.concat([list_options(symbol, expiration) for expiration in expirations])\n",
    "    return df"
   ]
  },
  {
   "cell_type": "code",
   "execution_count": 4,
   "metadata": {},
   "outputs": [],
   "source": [
    "def options(symbol, spot_price, call_expire = \"C\", put_expire = \"O\"):\n",
    "    \"\"\"Returns a df with options that strike is aroud 10 % spot price\"\"\"\n",
    "    option = symbol[0:4]\n",
    "    delta = spot_price * 0.1\n",
    "    df = list_all_options(symbol)\n",
    "    df = df[(df['option'].str.contains(option + call_expire)) |\n",
    "    (df['option'].str.contains(option + put_expire))]\n",
    "    df = df[(df['strike'] > spot_price - delta) &\n",
    "    (df['strike'] < spot_price + delta)]\n",
    "    return df"
   ]
  },
  {
   "cell_type": "code",
   "execution_count": 20,
   "metadata": {},
   "outputs": [
    {
     "name": "stdout",
     "output_type": "stream",
     "text": [
      "Informação: trade allowed - True\n"
     ]
    }
   ],
   "source": [
    "pymt5.conecta_mt5(\"BTG\")\n",
    "last = pymt5.last_tick(settings.OPTIONS_WATHC)\n",
    "df_options = pd.DataFrame()\n",
    "for key in last.keys():\n",
    "    df = options(key, last[key])\n",
    "    df_options = pd.concat([df_options, df])\n",
    "    "
   ]
  },
  {
   "cell_type": "code",
   "execution_count": 21,
   "metadata": {},
   "outputs": [
    {
     "data": {
      "text/html": [
       "<div>\n",
       "<style scoped>\n",
       "    .dataframe tbody tr th:only-of-type {\n",
       "        vertical-align: middle;\n",
       "    }\n",
       "\n",
       "    .dataframe tbody tr th {\n",
       "        vertical-align: top;\n",
       "    }\n",
       "\n",
       "    .dataframe thead th {\n",
       "        text-align: right;\n",
       "    }\n",
       "</style>\n",
       "<table border=\"1\" class=\"dataframe\">\n",
       "  <thead>\n",
       "    <tr style=\"text-align: right;\">\n",
       "      <th></th>\n",
       "      <th>symbol</th>\n",
       "      <th>expiration</th>\n",
       "      <th>option</th>\n",
       "      <th>type</th>\n",
       "      <th>model</th>\n",
       "      <th>strike</th>\n",
       "    </tr>\n",
       "  </thead>\n",
       "  <tbody>\n",
       "    <tr>\n",
       "      <th>37</th>\n",
       "      <td>PETR4</td>\n",
       "      <td>2023-03-17</td>\n",
       "      <td>PETRC153</td>\n",
       "      <td>CALL</td>\n",
       "      <td>A</td>\n",
       "      <td>24.51</td>\n",
       "    </tr>\n",
       "    <tr>\n",
       "      <th>39</th>\n",
       "      <td>PETR4</td>\n",
       "      <td>2023-03-17</td>\n",
       "      <td>PETRC156</td>\n",
       "      <td>CALL</td>\n",
       "      <td>E</td>\n",
       "      <td>24.26</td>\n",
       "    </tr>\n",
       "    <tr>\n",
       "      <th>43</th>\n",
       "      <td>PETR4</td>\n",
       "      <td>2023-03-17</td>\n",
       "      <td>PETRC164</td>\n",
       "      <td>CALL</td>\n",
       "      <td>A</td>\n",
       "      <td>24.01</td>\n",
       "    </tr>\n",
       "    <tr>\n",
       "      <th>58</th>\n",
       "      <td>PETR4</td>\n",
       "      <td>2023-03-17</td>\n",
       "      <td>PETRC208</td>\n",
       "      <td>CALL</td>\n",
       "      <td>E</td>\n",
       "      <td>23.76</td>\n",
       "    </tr>\n",
       "    <tr>\n",
       "      <th>63</th>\n",
       "      <td>PETR4</td>\n",
       "      <td>2023-03-17</td>\n",
       "      <td>PETRC233</td>\n",
       "      <td>CALL</td>\n",
       "      <td>A</td>\n",
       "      <td>26.01</td>\n",
       "    </tr>\n",
       "    <tr>\n",
       "      <th>...</th>\n",
       "      <td>...</td>\n",
       "      <td>...</td>\n",
       "      <td>...</td>\n",
       "      <td>...</td>\n",
       "      <td>...</td>\n",
       "      <td>...</td>\n",
       "    </tr>\n",
       "    <tr>\n",
       "      <th>137</th>\n",
       "      <td>BOVA11</td>\n",
       "      <td>2023-03-17</td>\n",
       "      <td>BOVAO990</td>\n",
       "      <td>PUT</td>\n",
       "      <td>E</td>\n",
       "      <td>99.00</td>\n",
       "    </tr>\n",
       "    <tr>\n",
       "      <th>0</th>\n",
       "      <td>BOVA11</td>\n",
       "      <td>2024-03-15</td>\n",
       "      <td>BOVAC110</td>\n",
       "      <td>CALL</td>\n",
       "      <td>A</td>\n",
       "      <td>110.00</td>\n",
       "    </tr>\n",
       "    <tr>\n",
       "      <th>1</th>\n",
       "      <td>BOVA11</td>\n",
       "      <td>2024-03-15</td>\n",
       "      <td>BOVAC115</td>\n",
       "      <td>CALL</td>\n",
       "      <td>E</td>\n",
       "      <td>115.00</td>\n",
       "    </tr>\n",
       "    <tr>\n",
       "      <th>3</th>\n",
       "      <td>BOVA11</td>\n",
       "      <td>2024-03-15</td>\n",
       "      <td>BOVAO110</td>\n",
       "      <td>PUT</td>\n",
       "      <td>E</td>\n",
       "      <td>110.00</td>\n",
       "    </tr>\n",
       "    <tr>\n",
       "      <th>4</th>\n",
       "      <td>BOVA11</td>\n",
       "      <td>2024-03-15</td>\n",
       "      <td>BOVAO115</td>\n",
       "      <td>PUT</td>\n",
       "      <td>E</td>\n",
       "      <td>115.00</td>\n",
       "    </tr>\n",
       "  </tbody>\n",
       "</table>\n",
       "<p>342 rows × 6 columns</p>\n",
       "</div>"
      ],
      "text/plain": [
       "     symbol  expiration    option  type model  strike\n",
       "37    PETR4  2023-03-17  PETRC153  CALL     A   24.51\n",
       "39    PETR4  2023-03-17  PETRC156  CALL     E   24.26\n",
       "43    PETR4  2023-03-17  PETRC164  CALL     A   24.01\n",
       "58    PETR4  2023-03-17  PETRC208  CALL     E   23.76\n",
       "63    PETR4  2023-03-17  PETRC233  CALL     A   26.01\n",
       "..      ...         ...       ...   ...   ...     ...\n",
       "137  BOVA11  2023-03-17  BOVAO990   PUT     E   99.00\n",
       "0    BOVA11  2024-03-15  BOVAC110  CALL     A  110.00\n",
       "1    BOVA11  2024-03-15  BOVAC115  CALL     E  115.00\n",
       "3    BOVA11  2024-03-15  BOVAO110   PUT     E  110.00\n",
       "4    BOVA11  2024-03-15  BOVAO115   PUT     E  115.00\n",
       "\n",
       "[342 rows x 6 columns]"
      ]
     },
     "execution_count": 21,
     "metadata": {},
     "output_type": "execute_result"
    }
   ],
   "source": [
    "df_options"
   ]
  }
 ],
 "metadata": {
  "kernelspec": {
   "display_name": ".venv",
   "language": "python",
   "name": "python3"
  },
  "language_info": {
   "codemirror_mode": {
    "name": "ipython",
    "version": 3
   },
   "file_extension": ".py",
   "mimetype": "text/x-python",
   "name": "python",
   "nbconvert_exporter": "python",
   "pygments_lexer": "ipython3",
   "version": "3.10.0"
  },
  "orig_nbformat": 4,
  "vscode": {
   "interpreter": {
    "hash": "fa24e63a9949693ba67102ab49889fb3df2c3747b3bbf04896a829464473b023"
   }
  }
 },
 "nbformat": 4,
 "nbformat_minor": 2
}
