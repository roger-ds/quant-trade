{
 "cells": [
  {
   "cell_type": "code",
   "execution_count": 41,
   "metadata": {},
   "outputs": [],
   "source": [
    "from scipy.stats import norm\n",
    "from math import log, sqrt, exp\n",
    "\n",
    "def BlackScholes(CallPutFlag,S,K,r,v,T,d):\n",
    "    \"\"\" # The Black Scholes Formula\n",
    "    # CallPutFlag - This is set to 'c' for call option, anything else for put\n",
    "    # S - Stock price\n",
    "    # K - Strike price\n",
    "    # T - Time to maturity\n",
    "    # r - Riskfree interest rate\n",
    "    # d - Dividend yield\n",
    "    # v - Volatility\n",
    "    \"\"\"\n",
    "    d1 = (log(float(S)/K)+((r-d)+v*v/2.)*T)/(v*sqrt(T))\n",
    "    d2 = d1-v*sqrt(T)\n",
    "    if CallPutFlag=='c':\n",
    "        return S*exp(-d*T)*norm.cdf(d1)-K*exp(-r*T)*norm.cdf(d2)\n",
    "    else:\n",
    "        return K*exp(-r*T)*norm.cdf(-d2)-S*exp(-d*T)*norm.cdf(-d1)\n",
    "\n",
    "#The Greeks\n",
    "def Black_Scholes_Greeks_Call(S, K, r, v, T, d):\n",
    "    \"\"\"Calculating the partial derivatives for a Black Scholes Option (Call)\n",
    "    # S - Stock price\n",
    "    # K - Strike price\n",
    "    # T - Time to maturity\n",
    "    # r - Riskfree interest rate\n",
    "    # d - Dividend yield\n",
    "    # v - Volatility\n",
    "    Return:\n",
    "    Delta: partial wrt S\n",
    "    Gamma: second partial wrt S\n",
    "    Theta: partial wrt T\n",
    "    Vega: partial wrt v\n",
    "    Rho: partial wrt r \"\"\"\n",
    "    T_sqrt = sqrt(T)\n",
    "    d1 = (log(float(S)/K)+((r-d)+v*v/2.)*T)/(v*T_sqrt)\n",
    "    d2 = d1-v*T_sqrt\n",
    "    Delta = norm.cdf(d1)\n",
    "    Gamma = norm.pdf(d1)/(S*v*T_sqrt)\n",
    "    Theta =- (S*v*norm.pdf(d1))/(2*T_sqrt) - r*K*exp( -r*T)*norm.cdf(d2)\n",
    "    Vega = S * T_sqrt*norm.pdf(d1)\n",
    "    Rho = K*T*exp(-r*T)*norm.cdf(d2)\n",
    "    return Delta, Gamma, Theta, Vega, Rho\n",
    "\n",
    "def Black_Scholes_Greeks_Put(S, K, r, v, T, d):\n",
    "    \"\"\"Calculating the partial derivatives for a Black Scholes Option (Put)\n",
    "    # S - Stock price\n",
    "    # K - Strike price\n",
    "    # T - Time to maturity\n",
    "    # r - Riskfree interest rate\n",
    "    # d - Dividend yield\n",
    "    # v - Volatility\n",
    "    Return:\n",
    "    Delta: partial wrt S\n",
    "    Gamma: second partial wrt S\n",
    "    Theta: partial wrt T\n",
    "    Vega: partial wrt v\n",
    "    Rho: partial wrt r \"\"\"\n",
    "    T_sqrt = sqrt(T)\n",
    "    d1 = (log(float(S)/K)+r*T)/(v*T_sqrt) + 0.5*v*T_sqrt\n",
    "    d2 = d1-(v*T_sqrt)\n",
    "    Delta = -norm.cdf(-d1)\n",
    "    Gamma = norm.pdf(d1)/(S*v*T_sqrt)\n",
    "    Theta = -(S*v*norm.pdf(d1)) / (2*T_sqrt)+ r*K * exp(-r*T) * norm.cdf(-d2)\n",
    "    Vega = S * T_sqrt * norm.pdf(d1)\n",
    "    Rho = -K*T*exp(-r*T) * norm.cdf(-d2)\n",
    "    return Delta, Gamma, Theta, Vega, Rho\n"
   ]
  },
  {
   "cell_type": "code",
   "execution_count": 42,
   "metadata": {},
   "outputs": [
    {
     "name": "stdout",
     "output_type": "stream",
     "text": [
      "(0.5285710345530259, 0.10486079971293322, -2.1437085315040076, 25.166591931103973, 20.49713093369678)\n",
      "(-0.47142896544697405, 0.10486079971293322, -1.644707532170341, 25.166591931103973, -19.42294901299654)\n",
      "1.6142761210606338\n",
      "1.4144759877939421\n"
     ]
    }
   ],
   "source": [
    "\n",
    "print(Black_Scholes_Greeks_Call(100, 100, 0.005, 0.06, 0.4, 0))\n",
    "print(Black_Scholes_Greeks_Put(100, 100, 0.005, 0.06, 0.4, 0))\n",
    "\n",
    "print(BlackScholes('c', 100, 100, 0.005, 0.06, 0.4, 0))\n",
    "print(BlackScholes('p', 100, 100, 0.005, 0.06, 0.4, 0))"
   ]
  },
  {
   "cell_type": "code",
   "execution_count": 33,
   "metadata": {},
   "outputs": [],
   "source": [
    "def BinomialTree3(type,S0, K, r, sigma, T, N=2000,american=\"false\"):\n",
    "    #we improve the previous tree by checking for early exercise for american options\n",
    "   \n",
    "    #calculate delta T    \n",
    "    deltaT = float(T) / N\n",
    " \n",
    "    # up and down factor will be constant for the tree so we calculate outside the loop\n",
    "    u = np.exp(sigma * np.sqrt(deltaT))\n",
    "    d = 1.0 / u\n",
    " \n",
    "    #to work with vector we need to init the arrays using numpy\n",
    "    fs =  np.asarray([0.0 for i in range(N + 1)])\n",
    "        \n",
    "    #we need the stock tree for calculations of expiration values\n",
    "    fs2 = np.asarray([(S0 * u**j * d**(N - j)) for j in range(N + 1)])\n",
    "    \n",
    "    #we vectorize the strikes as well so the expiration check will be faster\n",
    "    fs3 =np.asarray( [float(K) for i in range(N + 1)])\n",
    "    \n",
    " \n",
    "    #rates are fixed so the probability of up and down are fixed.\n",
    "    #this is used to make sure the drift is the risk free rate\n",
    "    a = np.exp(r * deltaT)\n",
    "    p = (a - d)/ (u - d)\n",
    "    oneMinusP = 1.0 - p\n",
    " \n",
    "   \n",
    "    # Compute the leaves, f_{N, j}\n",
    "    if type ==\"C\":\n",
    "        fs[:] = np.maximum(fs2-fs3, 0.0)\n",
    "    else:\n",
    "        fs[:] = np.maximum(-fs2+fs3, 0.0)\n",
    "    \n",
    "   \n",
    "    #calculate backward the option prices\n",
    "    for i in range(N-1, -1, -1):\n",
    "       fs[:-1]=np.exp(-r * deltaT) * (p * fs[1:] + oneMinusP * fs[:-1])\n",
    "       fs2[:]=fs2[:]*u\n",
    "      \n",
    "       if american=='true':\n",
    "           #Simply check if the option is worth more alive or dead\n",
    "           if type ==\"C\":\n",
    "                fs[:]=np.maximum(fs[:],fs2[:]-fs3[:])\n",
    "           else:\n",
    "                fs[:]=np.maximum(fs[:],-fs2[:]+fs3[:])\n",
    "                \n",
    "    # print fs\n",
    "    return fs[0]"
   ]
  },
  {
   "cell_type": "code",
   "execution_count": 26,
   "metadata": {},
   "outputs": [
    {
     "data": {
      "text/plain": [
       "1.1432335348292781"
      ]
     },
     "execution_count": 26,
     "metadata": {},
     "output_type": "execute_result"
    }
   ],
   "source": [
    "BlackScholes('c', 100, 100, 0.005, 0.06, 0, 0.4)"
   ]
  },
  {
   "cell_type": "code",
   "execution_count": 30,
   "metadata": {},
   "outputs": [
    {
     "data": {
      "text/plain": [
       "3.9835172452950496"
      ]
     },
     "execution_count": 30,
     "metadata": {},
     "output_type": "execute_result"
    }
   ],
   "source": [
    "BinomialTree3(\"C\", 26.14, 26.15, 0.0641, 0.31, 0.996307, american=\"false\")"
   ]
  },
  {
   "cell_type": "code",
   "execution_count": 10,
   "metadata": {},
   "outputs": [
    {
     "ename": "ImportError",
     "evalue": "No module named 'QuantLib'",
     "output_type": "error",
     "traceback": [
      "\u001b[1;31m---------------------------------------------------------------------------\u001b[0m",
      "\u001b[1;31mImportError\u001b[0m                               Traceback (most recent call last)",
      "\u001b[1;32m<ipython-input-10-8c1b3c64990b>\u001b[0m in \u001b[0;36m<module>\u001b[1;34m\u001b[0m\n\u001b[0;32m      1\u001b[0m \u001b[1;31m# valuing an American option\u001b[0m\u001b[1;33m\u001b[0m\u001b[1;33m\u001b[0m\u001b[0m\n\u001b[0;32m      2\u001b[0m \u001b[1;33m\u001b[0m\u001b[0m\n\u001b[1;32m----> 3\u001b[1;33m \u001b[1;32mfrom\u001b[0m \u001b[0mQuantLib\u001b[0m \u001b[1;32mimport\u001b[0m \u001b[1;33m*\u001b[0m\u001b[1;33m\u001b[0m\u001b[0m\n\u001b[0m\u001b[0;32m      4\u001b[0m \u001b[1;33m\u001b[0m\u001b[0m\n\u001b[0;32m      5\u001b[0m \u001b[0mvaluation_date\u001b[0m \u001b[1;33m=\u001b[0m \u001b[0mDate\u001b[0m\u001b[1;33m(\u001b[0m\u001b[1;36m22\u001b[0m\u001b[1;33m,\u001b[0m \u001b[1;36m8\u001b[0m\u001b[1;33m,\u001b[0m \u001b[1;36m2018\u001b[0m\u001b[1;33m)\u001b[0m\u001b[1;33m\u001b[0m\u001b[0m\n",
      "\u001b[1;31mImportError\u001b[0m: No module named 'QuantLib'"
     ]
    }
   ],
   "source": [
    "# valuing an American option\n",
    "\n",
    "from QuantLib import *\n",
    "\n",
    "valuation_date = Date(22, 8, 2018)\n",
    "Settings.instance().evaluationDate = valuation_date+2\n",
    "\n",
    "calendar = Canada()\n",
    "volatility = 42.66/100\n",
    "day_count = Actual365Fixed()\n",
    "\n",
    "underlying = 13.5\n",
    "risk_free_rate = 2.13/100\n",
    "dividend_rate = 1.2/100\n",
    "\n",
    "exercise_date = Date(22, 8, 2021)\n",
    "strike = 13\n",
    "option_type = Option.Put\n",
    "\n",
    "payoff = PlainVanillaPayoff(option_type, strike)\n",
    "exercise = EuropeanExercise(exercise_date)\n",
    "european_option = VanillaOption(payoff, exercise)\n",
    "\n",
    "spot_handle = QuoteHandle(SimpleQuote(underlying))\n",
    "\n",
    "flat_ts = YieldTermStructureHandle(FlatForward(valuation_date,risk_free_rate,day_count))\n",
    "dividend_yield = YieldTermStructureHandle(FlatForward(valuation_date,dividend_rate,day_count))\n",
    "flat_vol_ts = BlackVolTermStructureHandle(BlackConstantVol(valuation_date,calendar,volatility,day_count))\n",
    "bsm_process = BlackScholesMertonProcess(spot_handle,dividend_yield,flat_ts,flat_vol_ts)\n",
    "\n",
    "# European option\n",
    "european_option.setPricingEngine(AnalyticEuropeanEngine(bsm_process))\n",
    "bs_price = european_option.NPV()\n",
    "print(\"European option price is \", bs_price)\n",
    "\n",
    "# American option\n",
    "binomial_engine = BinomialVanillaEngine(bsm_process, \"crr\", 50)\n",
    "am_exercise = AmericanExercise(valuation_date, exercise_date)\n",
    "american_option = VanillaOption(payoff, am_exercise)\n",
    "american_option.setPricingEngine(binomial_engine)\n",
    "crr_price = american_option.NPV()\n",
    "print(\"American option price is \", crr_price)"
   ]
  },
  {
   "cell_type": "code",
   "execution_count": null,
   "metadata": {},
   "outputs": [],
   "source": []
  }
 ],
 "metadata": {
  "kernelspec": {
   "display_name": ".venv",
   "language": "python",
   "name": "python3"
  },
  "language_info": {
   "codemirror_mode": {
    "name": "ipython",
    "version": 3
   },
   "file_extension": ".py",
   "mimetype": "text/x-python",
   "name": "python",
   "nbconvert_exporter": "python",
   "pygments_lexer": "ipython3",
   "version": "3.10.0"
  },
  "vscode": {
   "interpreter": {
    "hash": "fa24e63a9949693ba67102ab49889fb3df2c3747b3bbf04896a829464473b023"
   }
  }
 },
 "nbformat": 4,
 "nbformat_minor": 2
}
